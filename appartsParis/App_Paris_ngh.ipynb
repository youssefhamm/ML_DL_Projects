{
 "cells": [
  {
   "cell_type": "code",
   "execution_count": 17,
   "id": "9bb60aa5",
   "metadata": {},
   "outputs": [],
   "source": [
    "import pandas as pd \n",
    "import matplotlib.pyplot as plt\n",
    "import numpy as np\n",
    "import Re_ploy_ngh as na\n"
   ]
  },
  {
   "cell_type": "raw",
   "id": "29e2c7f3",
   "metadata": {},
   "source": [
    "On va lire le fichier CSV"
   ]
  },
  {
   "cell_type": "code",
   "execution_count": 18,
   "id": "2b6670ba",
   "metadata": {},
   "outputs": [
    {
     "data": {
      "text/html": [
       "<div>\n",
       "<style scoped>\n",
       "    .dataframe tbody tr th:only-of-type {\n",
       "        vertical-align: middle;\n",
       "    }\n",
       "\n",
       "    .dataframe tbody tr th {\n",
       "        vertical-align: top;\n",
       "    }\n",
       "\n",
       "    .dataframe thead th {\n",
       "        text-align: right;\n",
       "    }\n",
       "</style>\n",
       "<table border=\"1\" class=\"dataframe\">\n",
       "  <thead>\n",
       "    <tr style=\"text-align: right;\">\n",
       "      <th></th>\n",
       "      <th>Nb_pieces</th>\n",
       "      <th>Nb_chambres</th>\n",
       "      <th>Etage</th>\n",
       "      <th>Surface (en m2)</th>\n",
       "      <th>Arrondissement</th>\n",
       "      <th>Prix (en K�)</th>\n",
       "    </tr>\n",
       "  </thead>\n",
       "  <tbody>\n",
       "    <tr>\n",
       "      <th>0</th>\n",
       "      <td>3</td>\n",
       "      <td>4</td>\n",
       "      <td>5</td>\n",
       "      <td>67</td>\n",
       "      <td>17</td>\n",
       "      <td>770.0</td>\n",
       "    </tr>\n",
       "    <tr>\n",
       "      <th>1</th>\n",
       "      <td>1</td>\n",
       "      <td>2</td>\n",
       "      <td>5</td>\n",
       "      <td>26</td>\n",
       "      <td>17</td>\n",
       "      <td>321.0</td>\n",
       "    </tr>\n",
       "    <tr>\n",
       "      <th>...</th>\n",
       "      <td>...</td>\n",
       "      <td>...</td>\n",
       "      <td>...</td>\n",
       "      <td>...</td>\n",
       "      <td>...</td>\n",
       "      <td>...</td>\n",
       "    </tr>\n",
       "    <tr>\n",
       "      <th>39</th>\n",
       "      <td>2</td>\n",
       "      <td>1</td>\n",
       "      <td>2</td>\n",
       "      <td>38</td>\n",
       "      <td>15</td>\n",
       "      <td>450.0</td>\n",
       "    </tr>\n",
       "    <tr>\n",
       "      <th>40</th>\n",
       "      <td>4</td>\n",
       "      <td>2</td>\n",
       "      <td>8</td>\n",
       "      <td>95</td>\n",
       "      <td>15</td>\n",
       "      <td>876.0</td>\n",
       "    </tr>\n",
       "  </tbody>\n",
       "</table>\n",
       "<p>41 rows × 6 columns</p>\n",
       "</div>"
      ],
      "text/plain": [
       "    Nb_pieces  Nb_chambres  Etage  Surface (en m2)  Arrondissement  \\\n",
       "0           3            4      5               67              17   \n",
       "1           1            2      5               26              17   \n",
       "..        ...          ...    ...              ...             ...   \n",
       "39          2            1      2               38              15   \n",
       "40          4            2      8               95              15   \n",
       "\n",
       "    Prix (en K�)  \n",
       "0          770.0  \n",
       "1          321.0  \n",
       "..           ...  \n",
       "39         450.0  \n",
       "40         876.0  \n",
       "\n",
       "[41 rows x 6 columns]"
      ]
     },
     "execution_count": 18,
     "metadata": {},
     "output_type": "execute_result"
    }
   ],
   "source": [
    "df = pd.read_csv(\"appartsParis.csv\",header=0)\n",
    "pd.set_option('display.max_rows',5) # Pour afficher juste 10  lignes\n",
    "df"
   ]
  },
  {
   "cell_type": "raw",
   "id": "2a1cc7e0",
   "metadata": {},
   "source": [
    "# On va renommer les colonnes"
   ]
  },
  {
   "cell_type": "code",
   "execution_count": 19,
   "id": "d9929cc2",
   "metadata": {},
   "outputs": [
    {
     "data": {
      "text/html": [
       "<div>\n",
       "<style scoped>\n",
       "    .dataframe tbody tr th:only-of-type {\n",
       "        vertical-align: middle;\n",
       "    }\n",
       "\n",
       "    .dataframe tbody tr th {\n",
       "        vertical-align: top;\n",
       "    }\n",
       "\n",
       "    .dataframe thead th {\n",
       "        text-align: right;\n",
       "    }\n",
       "</style>\n",
       "<table border=\"1\" class=\"dataframe\">\n",
       "  <thead>\n",
       "    <tr style=\"text-align: right;\">\n",
       "      <th></th>\n",
       "      <th>nb_pieces</th>\n",
       "      <th>nb_chambres</th>\n",
       "      <th>etage</th>\n",
       "      <th>surface</th>\n",
       "      <th>arrondissement</th>\n",
       "      <th>prix</th>\n",
       "    </tr>\n",
       "  </thead>\n",
       "  <tbody>\n",
       "    <tr>\n",
       "      <th>0</th>\n",
       "      <td>3</td>\n",
       "      <td>4</td>\n",
       "      <td>5</td>\n",
       "      <td>67</td>\n",
       "      <td>17</td>\n",
       "      <td>770.0</td>\n",
       "    </tr>\n",
       "    <tr>\n",
       "      <th>1</th>\n",
       "      <td>1</td>\n",
       "      <td>2</td>\n",
       "      <td>5</td>\n",
       "      <td>26</td>\n",
       "      <td>17</td>\n",
       "      <td>321.0</td>\n",
       "    </tr>\n",
       "    <tr>\n",
       "      <th>...</th>\n",
       "      <td>...</td>\n",
       "      <td>...</td>\n",
       "      <td>...</td>\n",
       "      <td>...</td>\n",
       "      <td>...</td>\n",
       "      <td>...</td>\n",
       "    </tr>\n",
       "    <tr>\n",
       "      <th>39</th>\n",
       "      <td>2</td>\n",
       "      <td>1</td>\n",
       "      <td>2</td>\n",
       "      <td>38</td>\n",
       "      <td>15</td>\n",
       "      <td>450.0</td>\n",
       "    </tr>\n",
       "    <tr>\n",
       "      <th>40</th>\n",
       "      <td>4</td>\n",
       "      <td>2</td>\n",
       "      <td>8</td>\n",
       "      <td>95</td>\n",
       "      <td>15</td>\n",
       "      <td>876.0</td>\n",
       "    </tr>\n",
       "  </tbody>\n",
       "</table>\n",
       "<p>41 rows × 6 columns</p>\n",
       "</div>"
      ],
      "text/plain": [
       "    nb_pieces  nb_chambres  etage  surface  arrondissement   prix\n",
       "0           3            4      5       67              17  770.0\n",
       "1           1            2      5       26              17  321.0\n",
       "..        ...          ...    ...      ...             ...    ...\n",
       "39          2            1      2       38              15  450.0\n",
       "40          4            2      8       95              15  876.0\n",
       "\n",
       "[41 rows x 6 columns]"
      ]
     },
     "execution_count": 19,
     "metadata": {},
     "output_type": "execute_result"
    }
   ],
   "source": [
    "df.rename(columns={ \n",
    "                    \"Nb_pieces\":'nb_pieces',\n",
    "                    \"Nb_chambres\":'nb_chambres',\n",
    "                    \"Etage\":'etage',\n",
    "                    \"Surface (en m2)\":'surface',\n",
    "                    \"Arrondissement\":'arrondissement',\n",
    "                    \"Prix (en K�)\":'prix'},\n",
    "          inplace=True)\n",
    "df"
   ]
  },
  {
   "cell_type": "code",
   "execution_count": 20,
   "id": "fce3f302",
   "metadata": {},
   "outputs": [
    {
     "name": "stdout",
     "output_type": "stream",
     "text": [
      "<class 'pandas.core.frame.DataFrame'>\n",
      "RangeIndex: 41 entries, 0 to 40\n",
      "Data columns (total 6 columns):\n",
      " #   Column          Non-Null Count  Dtype  \n",
      "---  ------          --------------  -----  \n",
      " 0   nb_pieces       41 non-null     int64  \n",
      " 1   nb_chambres     41 non-null     int64  \n",
      " 2   etage           41 non-null     int64  \n",
      " 3   surface         41 non-null     int64  \n",
      " 4   arrondissement  41 non-null     int64  \n",
      " 5   prix            41 non-null     float64\n",
      "dtypes: float64(1), int64(5)\n",
      "memory usage: 2.0 KB\n"
     ]
    }
   ],
   "source": [
    "#Les valeurs manquantes\n",
    "df.info()"
   ]
  },
  {
   "cell_type": "code",
   "execution_count": 21,
   "id": "4b402cac",
   "metadata": {},
   "outputs": [
    {
     "data": {
      "text/html": [
       "<div>\n",
       "<style scoped>\n",
       "    .dataframe tbody tr th:only-of-type {\n",
       "        vertical-align: middle;\n",
       "    }\n",
       "\n",
       "    .dataframe tbody tr th {\n",
       "        vertical-align: top;\n",
       "    }\n",
       "\n",
       "    .dataframe thead th {\n",
       "        text-align: right;\n",
       "    }\n",
       "</style>\n",
       "<table border=\"1\" class=\"dataframe\">\n",
       "  <thead>\n",
       "    <tr style=\"text-align: right;\">\n",
       "      <th></th>\n",
       "      <th>nb_pieces</th>\n",
       "      <th>nb_chambres</th>\n",
       "      <th>etage</th>\n",
       "      <th>surface</th>\n",
       "      <th>arrondissement</th>\n",
       "      <th>prix</th>\n",
       "    </tr>\n",
       "  </thead>\n",
       "  <tbody>\n",
       "    <tr>\n",
       "      <th>count</th>\n",
       "      <td>41.000000</td>\n",
       "      <td>41.000000</td>\n",
       "      <td>41.000000</td>\n",
       "      <td>41.000000</td>\n",
       "      <td>41.000000</td>\n",
       "      <td>41.000000</td>\n",
       "    </tr>\n",
       "    <tr>\n",
       "      <th>mean</th>\n",
       "      <td>2.658537</td>\n",
       "      <td>2.756098</td>\n",
       "      <td>4.097561</td>\n",
       "      <td>55.121951</td>\n",
       "      <td>14.414634</td>\n",
       "      <td>638.306098</td>\n",
       "    </tr>\n",
       "    <tr>\n",
       "      <th>...</th>\n",
       "      <td>...</td>\n",
       "      <td>...</td>\n",
       "      <td>...</td>\n",
       "      <td>...</td>\n",
       "      <td>...</td>\n",
       "      <td>...</td>\n",
       "    </tr>\n",
       "    <tr>\n",
       "      <th>75%</th>\n",
       "      <td>3.000000</td>\n",
       "      <td>4.000000</td>\n",
       "      <td>5.000000</td>\n",
       "      <td>73.000000</td>\n",
       "      <td>17.000000</td>\n",
       "      <td>815.000000</td>\n",
       "    </tr>\n",
       "    <tr>\n",
       "      <th>max</th>\n",
       "      <td>5.000000</td>\n",
       "      <td>5.000000</td>\n",
       "      <td>10.000000</td>\n",
       "      <td>118.000000</td>\n",
       "      <td>19.000000</td>\n",
       "      <td>1595.000000</td>\n",
       "    </tr>\n",
       "  </tbody>\n",
       "</table>\n",
       "<p>8 rows × 6 columns</p>\n",
       "</div>"
      ],
      "text/plain": [
       "       nb_pieces  nb_chambres      etage     surface  arrondissement  \\\n",
       "count  41.000000    41.000000  41.000000   41.000000       41.000000   \n",
       "mean    2.658537     2.756098   4.097561   55.121951       14.414634   \n",
       "...          ...          ...        ...         ...             ...   \n",
       "75%     3.000000     4.000000   5.000000   73.000000       17.000000   \n",
       "max     5.000000     5.000000  10.000000  118.000000       19.000000   \n",
       "\n",
       "              prix  \n",
       "count    41.000000  \n",
       "mean    638.306098  \n",
       "...            ...  \n",
       "75%     815.000000  \n",
       "max    1595.000000  \n",
       "\n",
       "[8 rows x 6 columns]"
      ]
     },
     "execution_count": 21,
     "metadata": {},
     "output_type": "execute_result"
    }
   ],
   "source": [
    "# Affichage de qlq statistiques\n",
    "df.describe() "
   ]
  },
  {
   "cell_type": "code",
   "execution_count": 22,
   "id": "2ecd97ff",
   "metadata": {},
   "outputs": [
    {
     "data": {
      "text/plain": [
       "nb_pieces         0\n",
       "nb_chambres       0\n",
       "                 ..\n",
       "arrondissement    0\n",
       "prix              0\n",
       "Length: 6, dtype: int64"
      ]
     },
     "execution_count": 22,
     "metadata": {},
     "output_type": "execute_result"
    }
   ],
   "source": [
    "# Trouver, compter et afficher les valeurs manquantes pour chaque colonne\n",
    "df.isnull().sum().sort_values(ascending=False)"
   ]
  },
  {
   "cell_type": "code",
   "execution_count": 23,
   "id": "db27e23e",
   "metadata": {},
   "outputs": [],
   "source": [
    "#Regroupe chaque colonne dans un array\n",
    "nb_pieces=np.array(df['nb_pieces'])\n",
    "nb_chambres=np.array(df['nb_chambres'])  #arrondissement=df['arrondissement'].tolist()\n",
    "etage=np.array(df['etage'])\n",
    "surface=np.array(df['surface'])\n",
    "arrondissement=np.array(df['arrondissement'])\n",
    "prix=np.array(df['prix'])\n",
    "\n",
    "NoteArrondissement={\"6\":76,\"12\":73.3,\"15\":59.1,\"16\":76,\"17\":65.3,\"19\":59.8}"
   ]
  },
  {
   "cell_type": "code",
   "execution_count": 24,
   "id": "23353576",
   "metadata": {},
   "outputs": [],
   "source": [
    "def fonctCaract(Arrond,etage,nb_pieces):\n",
    "    noteArrond=NoteArrondissement[str(Arrond)]\n",
    "    caracteristique=noteArrond/100  +(8-etage)/8  +  nb_pieces/6\n",
    "    return caracteristique"
   ]
  },
  {
   "cell_type": "code",
   "execution_count": 25,
   "id": "16aa58ce",
   "metadata": {},
   "outputs": [],
   "source": [
    "n=len(surface)\n",
    "noteArrond=np.zeros(n)\n",
    "caract=np.zeros(n)\n",
    "prixAuMetre2 = prix/surface\n",
    "\n",
    "for i in range(n):\n",
    "    Arrond=arrondissement[i]\n",
    "    caract[i]=fonctCaract(Arrond,etage[i],nb_pieces[i])"
   ]
  },
  {
   "cell_type": "code",
   "execution_count": 26,
   "id": "dc157499",
   "metadata": {},
   "outputs": [
    {
     "data": {
      "text/plain": [
       "Text(0.5, 1.0, 'Nuage de points')"
      ]
     },
     "execution_count": 26,
     "metadata": {},
     "output_type": "execute_result"
    },
    {
     "data": {
      "image/png": "[encoded data removed]",
      "text/plain": [
       "<Figure size 432x288 with 1 Axes>"
      ]
     },
     "metadata": {
      "needs_background": "light"
     },
     "output_type": "display_data"
    }
   ],
   "source": [
    "xi=caract\n",
    "yi=prixAuMetre2\n",
    "plt.scatter(xi,yi,c='b')\n",
    "plt.title(\"Nuage de points\")"
   ]
  },
  {
   "cell_type": "code",
   "execution_count": 29,
   "id": "fae8221c",
   "metadata": {},
   "outputs": [
    {
     "data": {
      "image/png": "[encoded data removed]",
      "text/plain": [
       "<Figure size 432x288 with 1 Axes>"
      ]
     },
     "metadata": {
      "needs_background": "light"
     },
     "output_type": "display_data"
    }
   ],
   "source": [
    "\n",
    "x=np.linspace(1.,2.2,50)\n",
    "m=25 # degre de poly de reg\n",
    "w=na.coef(xi,yi,m)\n",
    "yp=na.poly_Regression(w,x)\n",
    "erreur=0\n",
    "\n",
    "\n",
    "\n",
    "\n",
    "plt.scatter(xi,yi,c='b',s=15,label='Nuage de points')\n",
    "plt.plot(x,yp,c='k',lw=1,label='Lissage polynomial')\n",
    "plt.plot(x,yp,'r',label='polylissage',linewidth=1)\n",
    "plt.legend()\n",
    "plt.scatter(xi,yi,c='b')\n",
    "plt.title('lissage polynomial avec degre m=%i' %m)\n",
    "\n",
    "plt.show() # affiche la figure a l'ecran"
   ]
  },
  {
   "cell_type": "code",
   "execution_count": null,
   "id": "9df77e67",
   "metadata": {},
   "outputs": [],
   "source": []
  },
  {
   "cell_type": "code",
   "execution_count": null,
   "id": "0ae8e401",
   "metadata": {},
   "outputs": [],
   "source": []
  }
 ],
 "metadata": {
  "kernelspec": {
   "display_name": "Python 3",
   "language": "python",
   "name": "python3"
  },
  "language_info": {
   "codemirror_mode": {
    "name": "ipython",
    "version": 3
   },
   "file_extension": ".py",
   "mimetype": "text/x-python",
   "name": "python",
   "nbconvert_exporter": "python",
   "pygments_lexer": "ipython3",
   "version": "3.8.8"
  }
 },
 "nbformat": 4,
 "nbformat_minor": 5
}
