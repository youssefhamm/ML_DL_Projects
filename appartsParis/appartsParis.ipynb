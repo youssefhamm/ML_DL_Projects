{
 "cells": [
  {
   "cell_type": "code",
   "execution_count": 107,
   "id": "0ecc3689",
   "metadata": {},
   "outputs": [],
   "source": [
    "import pandas as pd \n",
    "import matplotlib.pyplot as plt\n",
    "import numpy as np\n",
    "import Regression_poly"
   ]
  },
  {
   "cell_type": "raw",
   "id": "7491eda1",
   "metadata": {},
   "source": [
    " lire la base de données"
   ]
  },
  {
   "cell_type": "code",
   "execution_count": 108,
   "id": "0efc03d9",
   "metadata": {
    "scrolled": true
   },
   "outputs": [
    {
     "data": {
      "text/html": [
       "<div>\n",
       "<style scoped>\n",
       "    .dataframe tbody tr th:only-of-type {\n",
       "        vertical-align: middle;\n",
       "    }\n",
       "\n",
       "    .dataframe tbody tr th {\n",
       "        vertical-align: top;\n",
       "    }\n",
       "\n",
       "    .dataframe thead th {\n",
       "        text-align: right;\n",
       "    }\n",
       "</style>\n",
       "<table border=\"1\" class=\"dataframe\">\n",
       "  <thead>\n",
       "    <tr style=\"text-align: right;\">\n",
       "      <th></th>\n",
       "      <th>Nb_pieces</th>\n",
       "      <th>Nb_chambres</th>\n",
       "      <th>Etage</th>\n",
       "      <th>Surface (en m2)</th>\n",
       "      <th>Arrondissement</th>\n",
       "      <th>Prix (en K�)</th>\n",
       "    </tr>\n",
       "  </thead>\n",
       "  <tbody>\n",
       "    <tr>\n",
       "      <th>0</th>\n",
       "      <td>3</td>\n",
       "      <td>4</td>\n",
       "      <td>5</td>\n",
       "      <td>67</td>\n",
       "      <td>17</td>\n",
       "      <td>770.0</td>\n",
       "    </tr>\n",
       "    <tr>\n",
       "      <th>1</th>\n",
       "      <td>1</td>\n",
       "      <td>2</td>\n",
       "      <td>5</td>\n",
       "      <td>26</td>\n",
       "      <td>17</td>\n",
       "      <td>321.0</td>\n",
       "    </tr>\n",
       "    <tr>\n",
       "      <th>...</th>\n",
       "      <td>...</td>\n",
       "      <td>...</td>\n",
       "      <td>...</td>\n",
       "      <td>...</td>\n",
       "      <td>...</td>\n",
       "      <td>...</td>\n",
       "    </tr>\n",
       "    <tr>\n",
       "      <th>39</th>\n",
       "      <td>2</td>\n",
       "      <td>1</td>\n",
       "      <td>2</td>\n",
       "      <td>38</td>\n",
       "      <td>15</td>\n",
       "      <td>450.0</td>\n",
       "    </tr>\n",
       "    <tr>\n",
       "      <th>40</th>\n",
       "      <td>4</td>\n",
       "      <td>2</td>\n",
       "      <td>8</td>\n",
       "      <td>95</td>\n",
       "      <td>15</td>\n",
       "      <td>876.0</td>\n",
       "    </tr>\n",
       "  </tbody>\n",
       "</table>\n",
       "<p>41 rows × 6 columns</p>\n",
       "</div>"
      ],
      "text/plain": [
       "    Nb_pieces  Nb_chambres  Etage  Surface (en m2)  Arrondissement  \\\n",
       "0           3            4      5               67              17   \n",
       "1           1            2      5               26              17   \n",
       "..        ...          ...    ...              ...             ...   \n",
       "39          2            1      2               38              15   \n",
       "40          4            2      8               95              15   \n",
       "\n",
       "    Prix (en K�)  \n",
       "0          770.0  \n",
       "1          321.0  \n",
       "..           ...  \n",
       "39         450.0  \n",
       "40         876.0  \n",
       "\n",
       "[41 rows x 6 columns]"
      ]
     },
     "execution_count": 108,
     "metadata": {},
     "output_type": "execute_result"
    }
   ],
   "source": [
    "df = pd.read_csv(\"appartsParis.csv\",header=0)\n",
    "pd.set_option('display.max_rows',5) # pour afficher juste les 5 premiers lignes\n",
    "df\n"
   ]
  },
  {
   "cell_type": "code",
   "execution_count": null,
   "id": "8014b69a",
   "metadata": {},
   "outputs": [],
   "source": []
  },
  {
   "cell_type": "code",
   "execution_count": 109,
   "id": "fb1ed832",
   "metadata": {},
   "outputs": [
    {
     "data": {
      "text/html": [
       "<div>\n",
       "<style scoped>\n",
       "    .dataframe tbody tr th:only-of-type {\n",
       "        vertical-align: middle;\n",
       "    }\n",
       "\n",
       "    .dataframe tbody tr th {\n",
       "        vertical-align: top;\n",
       "    }\n",
       "\n",
       "    .dataframe thead th {\n",
       "        text-align: right;\n",
       "    }\n",
       "</style>\n",
       "<table border=\"1\" class=\"dataframe\">\n",
       "  <thead>\n",
       "    <tr style=\"text-align: right;\">\n",
       "      <th></th>\n",
       "      <th>nb_pieces</th>\n",
       "      <th>nb_chambres</th>\n",
       "      <th>etage</th>\n",
       "      <th>surface</th>\n",
       "      <th>arrondissement</th>\n",
       "      <th>prix</th>\n",
       "    </tr>\n",
       "  </thead>\n",
       "  <tbody>\n",
       "    <tr>\n",
       "      <th>0</th>\n",
       "      <td>3</td>\n",
       "      <td>4</td>\n",
       "      <td>5</td>\n",
       "      <td>67</td>\n",
       "      <td>17</td>\n",
       "      <td>770.0</td>\n",
       "    </tr>\n",
       "    <tr>\n",
       "      <th>1</th>\n",
       "      <td>1</td>\n",
       "      <td>2</td>\n",
       "      <td>5</td>\n",
       "      <td>26</td>\n",
       "      <td>17</td>\n",
       "      <td>321.0</td>\n",
       "    </tr>\n",
       "    <tr>\n",
       "      <th>...</th>\n",
       "      <td>...</td>\n",
       "      <td>...</td>\n",
       "      <td>...</td>\n",
       "      <td>...</td>\n",
       "      <td>...</td>\n",
       "      <td>...</td>\n",
       "    </tr>\n",
       "    <tr>\n",
       "      <th>39</th>\n",
       "      <td>2</td>\n",
       "      <td>1</td>\n",
       "      <td>2</td>\n",
       "      <td>38</td>\n",
       "      <td>15</td>\n",
       "      <td>450.0</td>\n",
       "    </tr>\n",
       "    <tr>\n",
       "      <th>40</th>\n",
       "      <td>4</td>\n",
       "      <td>2</td>\n",
       "      <td>8</td>\n",
       "      <td>95</td>\n",
       "      <td>15</td>\n",
       "      <td>876.0</td>\n",
       "    </tr>\n",
       "  </tbody>\n",
       "</table>\n",
       "<p>41 rows × 6 columns</p>\n",
       "</div>"
      ],
      "text/plain": [
       "    nb_pieces  nb_chambres  etage  surface  arrondissement   prix\n",
       "0           3            4      5       67              17  770.0\n",
       "1           1            2      5       26              17  321.0\n",
       "..        ...          ...    ...      ...             ...    ...\n",
       "39          2            1      2       38              15  450.0\n",
       "40          4            2      8       95              15  876.0\n",
       "\n",
       "[41 rows x 6 columns]"
      ]
     },
     "execution_count": 109,
     "metadata": {},
     "output_type": "execute_result"
    }
   ],
   "source": [
    "df.rename(columns={ \n",
    "                    \"Nb_pieces\":'nb_pieces',\n",
    "                    \"Nb_chambres\":'nb_chambres',\n",
    "                    \"Etage\":'etage',\n",
    "                    \"Surface (en m2)\":'surface',\n",
    "                    \"Arrondissement\":'arrondissement',\n",
    "                    \"Prix (en K�)\":'prix'},\n",
    "          inplace=True)\n",
    "df"
   ]
  },
  {
   "cell_type": "code",
   "execution_count": 110,
   "id": "a833aa63",
   "metadata": {},
   "outputs": [
    {
     "name": "stdout",
     "output_type": "stream",
     "text": [
      "<class 'pandas.core.frame.DataFrame'>\n",
      "RangeIndex: 41 entries, 0 to 40\n",
      "Data columns (total 6 columns):\n",
      " #   Column          Non-Null Count  Dtype  \n",
      "---  ------          --------------  -----  \n",
      " 0   nb_pieces       41 non-null     int64  \n",
      " 1   nb_chambres     41 non-null     int64  \n",
      " 2   etage           41 non-null     int64  \n",
      " 3   surface         41 non-null     int64  \n",
      " 4   arrondissement  41 non-null     int64  \n",
      " 5   prix            41 non-null     float64\n",
      "dtypes: float64(1), int64(5)\n",
      "memory usage: 2.0 KB\n"
     ]
    }
   ],
   "source": [
    "#Les valeurs manquantes\n",
    "df.info()"
   ]
  },
  {
   "cell_type": "code",
   "execution_count": 111,
   "id": "bcf7112e",
   "metadata": {},
   "outputs": [
    {
     "data": {
      "text/plain": [
       "nb_pieces         0\n",
       "nb_chambres       0\n",
       "                 ..\n",
       "arrondissement    0\n",
       "prix              0\n",
       "Length: 6, dtype: int64"
      ]
     },
     "execution_count": 111,
     "metadata": {},
     "output_type": "execute_result"
    }
   ],
   "source": [
    "#trouver, compter et afficher les valuers manquantes pour chaque colonnes\n",
    "df.isnull().sum().sort_values(ascending=False)"
   ]
  },
  {
   "cell_type": "code",
   "execution_count": 112,
   "id": "286e8733",
   "metadata": {},
   "outputs": [
    {
     "data": {
      "text/html": [
       "<div>\n",
       "<style scoped>\n",
       "    .dataframe tbody tr th:only-of-type {\n",
       "        vertical-align: middle;\n",
       "    }\n",
       "\n",
       "    .dataframe tbody tr th {\n",
       "        vertical-align: top;\n",
       "    }\n",
       "\n",
       "    .dataframe thead th {\n",
       "        text-align: right;\n",
       "    }\n",
       "</style>\n",
       "<table border=\"1\" class=\"dataframe\">\n",
       "  <thead>\n",
       "    <tr style=\"text-align: right;\">\n",
       "      <th></th>\n",
       "      <th>nb_pieces</th>\n",
       "      <th>nb_chambres</th>\n",
       "      <th>etage</th>\n",
       "      <th>surface</th>\n",
       "      <th>arrondissement</th>\n",
       "      <th>prix</th>\n",
       "    </tr>\n",
       "  </thead>\n",
       "  <tbody>\n",
       "    <tr>\n",
       "      <th>count</th>\n",
       "      <td>41.000000</td>\n",
       "      <td>41.000000</td>\n",
       "      <td>41.000000</td>\n",
       "      <td>41.000000</td>\n",
       "      <td>41.000000</td>\n",
       "      <td>41.000000</td>\n",
       "    </tr>\n",
       "    <tr>\n",
       "      <th>mean</th>\n",
       "      <td>2.658537</td>\n",
       "      <td>2.756098</td>\n",
       "      <td>4.097561</td>\n",
       "      <td>55.121951</td>\n",
       "      <td>14.414634</td>\n",
       "      <td>638.306098</td>\n",
       "    </tr>\n",
       "    <tr>\n",
       "      <th>...</th>\n",
       "      <td>...</td>\n",
       "      <td>...</td>\n",
       "      <td>...</td>\n",
       "      <td>...</td>\n",
       "      <td>...</td>\n",
       "      <td>...</td>\n",
       "    </tr>\n",
       "    <tr>\n",
       "      <th>75%</th>\n",
       "      <td>3.000000</td>\n",
       "      <td>4.000000</td>\n",
       "      <td>5.000000</td>\n",
       "      <td>73.000000</td>\n",
       "      <td>17.000000</td>\n",
       "      <td>815.000000</td>\n",
       "    </tr>\n",
       "    <tr>\n",
       "      <th>max</th>\n",
       "      <td>5.000000</td>\n",
       "      <td>5.000000</td>\n",
       "      <td>10.000000</td>\n",
       "      <td>118.000000</td>\n",
       "      <td>19.000000</td>\n",
       "      <td>1595.000000</td>\n",
       "    </tr>\n",
       "  </tbody>\n",
       "</table>\n",
       "<p>8 rows × 6 columns</p>\n",
       "</div>"
      ],
      "text/plain": [
       "       nb_pieces  nb_chambres      etage     surface  arrondissement  \\\n",
       "count  41.000000    41.000000  41.000000   41.000000       41.000000   \n",
       "mean    2.658537     2.756098   4.097561   55.121951       14.414634   \n",
       "...          ...          ...        ...         ...             ...   \n",
       "75%     3.000000     4.000000   5.000000   73.000000       17.000000   \n",
       "max     5.000000     5.000000  10.000000  118.000000       19.000000   \n",
       "\n",
       "              prix  \n",
       "count    41.000000  \n",
       "mean    638.306098  \n",
       "...            ...  \n",
       "75%     815.000000  \n",
       "max    1595.000000  \n",
       "\n",
       "[8 rows x 6 columns]"
      ]
     },
     "execution_count": 112,
     "metadata": {},
     "output_type": "execute_result"
    }
   ],
   "source": [
    "df.describe() "
   ]
  },
  {
   "cell_type": "code",
   "execution_count": 113,
   "id": "ebd1a12a",
   "metadata": {},
   "outputs": [],
   "source": [
    "#Regroupe chaque colonne dans un array\n",
    "nb_pieces=np.array(df['nb_pieces'])\n",
    "nb_chambres=np.array(df['nb_chambres'])  #arrondissement=df['arrondissement'].tolist()\n",
    "etage=np.array(df['etage'])\n",
    "surface=np.array(df['surface'])\n",
    "arrondissement=np.array(df['arrondissement'])\n",
    "prix=np.array(df['prix'])\n",
    "\n",
    "\n",
    "\n",
    "NoteArrondissement={\"6\":76,\"12\":73.3,\"15\":59.1,\"16\":76,\"17\":65.3,\"19\":59.8}\n"
   ]
  },
  {
   "cell_type": "code",
   "execution_count": 114,
   "id": "51d876cb",
   "metadata": {},
   "outputs": [],
   "source": [
    "def fonctCaract(Arrond,etage,nb_pieces):\n",
    "   # for j in range(6):\n",
    "   #     if Arrond==NoteArrondissement[j][0]:\n",
    "   #        noteArrond=NoteArrondissement[j][1]\n",
    "    noteArrond=NoteArrondissement[Arrond]\n",
    "    caracteristique=noteArrond/100 + (8-etage)/8  +nb_pieces/6\n",
    "    return caracteristique\n",
    "    "
   ]
  },
  {
   "cell_type": "code",
   "execution_count": 115,
   "id": "82331ebd",
   "metadata": {},
   "outputs": [],
   "source": [
    "n=len(surface)\n",
    "noteArrond=np.zeros(n)\n",
    "caract=np.zeros(n)\n",
    "prixAuMetre2=np.zeros(n)\n",
    "\n",
    "for i in range(n):\n",
    "    Arrond=str(arrondissement[i])\n",
    "    caract[i]=fonctCaract(Arrond,etage[i],nb_pieces[i])\n",
    "    prixAuMetre2[i]=(prix[i]/surface[i])\n",
    " \n"
   ]
  },
  {
   "cell_type": "code",
   "execution_count": 83,
   "id": "e50fd862",
   "metadata": {},
   "outputs": [
    {
     "data": {
      "text/plain": [
       "Text(0.5, 1.0, 'Nuage de points')"
      ]
     },
     "execution_count": 83,
     "metadata": {},
     "output_type": "execute_result"
    },
    {
     "data": {
      "image/png": "[encoded data removed]",
      "text/plain": [
       "<Figure size 432x288 with 1 Axes>"
      ]
     },
     "metadata": {
      "needs_background": "light"
     },
     "output_type": "display_data"
    }
   ],
   "source": [
    "\n",
    "xi=caract\n",
    "yi=prixAuMetre2\n",
    "plt.scatter(xi,yi,c='b')\n",
    "plt.title(\"Nuage de points\")\n"
   ]
  },
  {
   "cell_type": "code",
   "execution_count": 116,
   "id": "9af700db",
   "metadata": {},
   "outputs": [
    {
     "data": {
      "image/png": "[encoded data removed]",
      "text/plain": [
       "<Figure size 432x288 with 1 Axes>"
      ]
     },
     "metadata": {
      "needs_background": "light"
     },
     "output_type": "display_data"
    }
   ],
   "source": [
    "x_min=1.\n",
    "x_max=2.2\n",
    "\n",
    "m=25 # Reg d'order 5\n",
    "w=Regression_poly.coeff_w_Regression(xi,yi,m)\n",
    "x=np.linspace(x_min,x_max,200)\n",
    "yp=Regression_poly.poly_Regression(w,x)\n",
    "\n",
    "\n",
    "plt.plot(x,yp,'r',label='polylissage',linewidth=1)\n",
    "plt.legend()\n",
    "plt.scatter(xi,yi,c='b')\n",
    "plt.title('lissage polynomial avec degre m=%i' %m)\n",
    "\n",
    "plt.show() # affiche la figure a l'ecran"
   ]
  },
  {
   "cell_type": "code",
   "execution_count": 85,
   "id": "79459489",
   "metadata": {},
   "outputs": [],
   "source": [
    "def EstimationDuPrix(Arrond,Surf,eta,nmpiece,prixVente):\n",
    "    prixVenteM2=prixVente/Surf\n",
    "    c = fonctCaract(Arrond,eta,nmpiece)\n",
    "    pr_approM2 = Regression_poly.poly_Regression(w,c)\n",
    "    prixVenteEstime = pr_approM2*surf*1000\n",
    "    prixVenteEstime = np.fix(prixVenteEstime)\n",
    "    print('le prix de l appartement est estimé à ', prixVenteEstime,'euro' )\n",
    "    erreur=np.fix((prixVente*1000-prixVenteEstime)/(prixVente*10))\n",
    "    print(\"erreur = \",erreur,'%')"
   ]
  },
  {
   "cell_type": "code",
   "execution_count": 49,
   "id": "4042d6f9",
   "metadata": {},
   "outputs": [
    {
     "name": "stdout",
     "output_type": "stream",
     "text": [
      "---- Estimation du prix de : Appart 1  -----------\n",
      "\n",
      "le prix de l appartement est estimé à  199530.0 euro\n",
      "erreur =  17.0 %\n",
      "\n",
      " Prix de vente demandé = 242000.00\n",
      "\n",
      "-------------------------------------\n",
      "\n",
      "---- Estimation du prix de : Appart 2  -----------\n",
      "\n",
      "le prix de l appartement est estimé à  843683.0 euro\n",
      "erreur =  -6.0 %\n",
      "\n",
      " Prix de vente demandé = 795000.00\n",
      "\n",
      "-------------------------------------\n",
      "\n",
      "---- Estimation du prix de : Appart 3  -----------\n",
      "\n",
      "le prix de l appartement est estimé à  316494.0 euro\n",
      "erreur =  10.0 %\n",
      "\n",
      " Prix de vente demandé = 355000.00\n",
      "\n",
      "-------------------------------------\n",
      "\n",
      "---- Estimation du prix de : Appart 4  -----------\n",
      "\n",
      "le prix de l appartement est estimé à  608027.0 euro\n",
      "erreur =  -6.0 %\n",
      "\n",
      " Prix de vente demandé = 570000.00\n",
      "\n",
      "-------------------------------------\n",
      "\n",
      "---- Estimation du prix de : Appart 5  -----------\n",
      "\n",
      "le prix de l appartement est estimé à  414302.0 euro\n",
      "erreur =  4.0 %\n",
      "\n",
      " Prix de vente demandé = 435000.00\n",
      "\n",
      "-------------------------------------\n",
      "\n",
      "---- Estimation du prix de : Appart 6  -----------\n",
      "\n",
      "le prix de l appartement est estimé à  2623915.0 euro\n",
      "erreur =  -9.0 %\n",
      "\n",
      " Prix de vente demandé = 2390000.00\n",
      "\n",
      "-------------------------------------\n",
      "\n",
      "---- Estimation du prix de : Appart 7  -----------\n",
      "\n",
      "le prix de l appartement est estimé à  594335.0 euro\n",
      "erreur =  19.0 %\n",
      "\n",
      " Prix de vente demandé = 735000.00\n",
      "\n",
      "-------------------------------------\n",
      "\n",
      "---- Estimation du prix de : Appart 8  -----------\n",
      "\n",
      "le prix de l appartement est estimé à  1323858.0 euro\n",
      "erreur =  -24.0 %\n",
      "\n",
      " Prix de vente demandé = 1060000.00\n",
      "\n",
      "-------------------------------------\n",
      "\n"
     ]
    }
   ],
   "source": [
    "class appartement :\n",
    "    \n",
    "        \n",
    "    \"\"\" un appartement est caractérisé par :\n",
    "    -arrondissement : la qualité du quartier\n",
    "    -Sa superficie : surface \n",
    "    etage\n",
    "    nmre pieces\n",
    "    prix\n",
    "    \"\"\"\n",
    "    def __init__(self,A,S,E,NP,PV):\n",
    "        self.A=A\n",
    "        self.S=S\n",
    "        self.E=E\n",
    "        self.NP=NP\n",
    "        self.PV=PV\n",
    "    \n",
    "    def arrondissement(self):\n",
    "        return self.A\n",
    "    \n",
    "    def superficie(self):\n",
    "        return self.S\n",
    "    \n",
    "    def etage(self):\n",
    "        return self.E\n",
    "    \n",
    "    def nbrepiece(self):\n",
    "        return self.NP\n",
    "    \n",
    "    def prix(self):\n",
    "        return self.PV\n",
    "        \n",
    "        \n",
    "part1=appartement(\"17\",19,5,1,242)\n",
    "part2=appartement(\"19\",80,6,5,795)\n",
    "part3=appartement(\"6\",30,2,1,355)\n",
    "part4=appartement(\"12\",57,4,3,570)\n",
    "part5=appartement(\"12\",36,4,2,435)\n",
    "part6=appartement(\"12\",228,4,2,2390)\n",
    "part7=appartement(\"17\",56,4,3,735)\n",
    "part8=appartement(\"12\",92,8,4,1060)\n",
    "\n",
    "LesAppartements=[part1,part2,part3,part4,part5,part6,part7,part8]\n",
    "\n",
    "numappart = 1 \n",
    "for appart in LesAppartements:\n",
    "    arrond=appart.arrondissement()\n",
    "    surf=appart.superficie()\n",
    "    eta=appart.etage()\n",
    "    nmpiece=appart.nbrepiece()\n",
    "    prixVente=appart.prix()\n",
    "    \n",
    "    print('---- Estimation du prix de : Appart%2s  -----------\\n' %numappart)\n",
    "    EstimationDuPrix(arrond,surf,eta,nmpiece,prixVente)\n",
    "    PV = prixVente*1000\n",
    "    print('\\n Prix de vente demandé = %9.2f\\n' %PV)\n",
    "    print('-------------------------------------\\n')\n",
    "    numappart+=1"
   ]
  },
  {
   "cell_type": "code",
   "execution_count": null,
   "id": "059f3d16",
   "metadata": {},
   "outputs": [],
   "source": []
  },
  {
   "cell_type": "code",
   "execution_count": null,
   "id": "3baafd07",
   "metadata": {},
   "outputs": [],
   "source": []
  },
  {
   "cell_type": "code",
   "execution_count": null,
   "id": "eb313b84",
   "metadata": {},
   "outputs": [],
   "source": []
  }
 ],
 "metadata": {
  "kernelspec": {
   "display_name": "Python 3",
   "language": "python",
   "name": "python3"
  },
  "language_info": {
   "codemirror_mode": {
    "name": "ipython",
    "version": 3
   },
   "file_extension": ".py",
   "mimetype": "text/x-python",
   "name": "python",
   "nbconvert_exporter": "python",
   "pygments_lexer": "ipython3",
   "version": "3.8.8"
  }
 },
 "nbformat": 4,
 "nbformat_minor": 5
}
