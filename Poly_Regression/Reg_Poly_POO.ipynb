{
 "cells": [
  {
   "cell_type": "code",
   "execution_count": 1,
   "id": "91c4f6ce",
   "metadata": {},
   "outputs": [],
   "source": [
    "import numpy as np \n",
    "import matplotlib.pyplot as plt\n",
    "import random"
   ]
  },
  {
   "cell_type": "code",
   "execution_count": 2,
   "id": "4977c65c",
   "metadata": {},
   "outputs": [],
   "source": [
    "class Poly_Reg_MISC:\n",
    "    \n",
    "    def __init__(self, xi, yi, m):\n",
    "        self.xi = xi\n",
    "        self.yi = yi\n",
    "        self.m = m\n",
    "        \n",
    "  \n",
    "   #Build our matrix of features.  \n",
    "\n",
    "    def marticeX(self):\n",
    "        n = len(self.xi)\n",
    "        A = np.zeros((n, self.m + 1))\n",
    "        xi = self.xi\n",
    "        for i in range(n):\n",
    "            for j in range(self.m + 1):\n",
    "                A[i,j] = self.xi[i]**j\n",
    "        return A\n",
    "    \n",
    "    #Calculation of weights.\n",
    "    \n",
    "    def coef_(self):\n",
    "        A = self.marticeX()\n",
    "        X=(A.T)@A\n",
    "        b=(A.T)@(self.yi)\n",
    "        w=np.linalg.solve(X,b)\n",
    "        return w\n",
    "    \n",
    "    #Horner function.\n",
    "    \n",
    "    def horner(self, w, x):\n",
    "        n=len(w)-1\n",
    "        b=w[n]\n",
    "    \n",
    "        for k in range(n-1,-1,-1):\n",
    "            b=w[k]+b*x\n",
    "        return b\n",
    "    \n",
    "    #Function used to valuate the polynomial.\n",
    "    \n",
    "    def predict_(self,x):\n",
    "        A = self.marticeX()\n",
    "        w = self.coef_()\n",
    "        y = self.horner(w,x)\n",
    "        return y\n",
    "\n",
    "    #Error function \n",
    "    \n",
    "    def error(self):\n",
    "        w = self.coef_()\n",
    "        xii = np.array(self.xi)\n",
    "        erreur = sum((self.predict_(xii)-self.yi)**2)/2*len(self.xi)\n",
    "        return erreur"
   ]
  },
  {
   "cell_type": "code",
   "execution_count": 3,
   "id": "61d7fd6f",
   "metadata": {},
   "outputs": [],
   "source": [
    "    #Create our original function.\n",
    "    def f(x):\n",
    "        return 1/(1+x**2)\n",
    "    f=np.vectorize(f)"
   ]
  },
  {
   "cell_type": "code",
   "execution_count": 4,
   "id": "f9638ef5",
   "metadata": {},
   "outputs": [],
   "source": [
    "x_min=-5\n",
    "x_max=5\n",
    "m=40\n",
    "n=120\n",
    "\n",
    "pas=(x_max-x_min)/(n-1)\n",
    "xi=[pas*i+x_min for i in range(n)]\n",
    "yi=[f(t)+random.random()/4 for t in xi]\n",
    "\n",
    "reg_poly = Poly_Reg_MISC(xi,yi,m)"
   ]
  },
  {
   "cell_type": "code",
   "execution_count": 5,
   "id": "28f13e74",
   "metadata": {},
   "outputs": [],
   "source": [
    "Mat = reg_poly.marticeX()\n",
    "w = reg_poly.coef_()"
   ]
  },
  {
   "cell_type": "code",
   "execution_count": 7,
   "id": "0ba25360",
   "metadata": {},
   "outputs": [
    {
     "data": {
      "image/png": "[encoded data removed]",
      "text/plain": [
       "<Figure size 432x288 with 1 Axes>"
      ]
     },
     "metadata": {
      "needs_background": "light"
     },
     "output_type": "display_data"
    }
   ],
   "source": [
    "x=np.linspace(x_min,x_max,100)\n",
    "\n",
    "yp = reg_poly.predict_(x)\n",
    "\n",
    "\n",
    "erreur = reg_poly.error()\n",
    "\n",
    "\n",
    "plt.scatter(xi,yi,c='b',s=15,label='Nuage de points')\n",
    "\n",
    "plt.plot(x,yp,c='k',lw=1,label='Lissage polynomial')\n",
    "\n",
    "plt.title('Regression polynomiale de degre m={}  e={}'.format(m,erreur) )\n",
    "plt.legend()\n",
    "plt.show()"
   ]
  },
  {
   "cell_type": "code",
   "execution_count": null,
   "id": "a4bcc741",
   "metadata": {},
   "outputs": [],
   "source": []
  }
 ],
 "metadata": {
  "kernelspec": {
   "display_name": "Python 3 (ipykernel)",
   "language": "python",
   "name": "python3"
  },
  "language_info": {
   "codemirror_mode": {
    "name": "ipython",
    "version": 3
   },
   "file_extension": ".py",
   "mimetype": "text/x-python",
   "name": "python",
   "nbconvert_exporter": "python",
   "pygments_lexer": "ipython3",
   "version": "3.9.12"
  }
 },
 "nbformat": 4,
 "nbformat_minor": 5
}
